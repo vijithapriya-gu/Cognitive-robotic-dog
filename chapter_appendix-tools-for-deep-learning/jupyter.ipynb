{
  "cells": [
    {
      "cell_type": "markdown",
      "source": [
        "Write a Python function to count vowels in a string"
      ],
      "metadata": {
        "id": "ydSHwln8aIVw"
      },
      "id": "ydSHwln8aIVw"
    },
    {
      "cell_type": "code",
      "source": [
        "\n",
        "def v_c(str):\n",
        "\tcount = 0\n",
        "\tvowel = set(\"aeiouAEIOU\")\n",
        "\tfor i in str:\n",
        "\t\tif i in vowel:\n",
        "\t\t\tcount = count + 1\n",
        "\n",
        "\tprint(\"vowels count in string is:\", count)\n",
        "\n",
        "str = \"VijithaPriyaGU\"\n",
        "v_c(str)\n"
      ],
      "metadata": {
        "id": "_Q3uydQCaJcr",
        "outputId": "054ace45-e801-400b-d9bf-67bfcea4c0fa",
        "colab": {
          "base_uri": "https://localhost:8080/"
        }
      },
      "id": "_Q3uydQCaJcr",
      "execution_count": 8,
      "outputs": [
        {
          "output_type": "stream",
          "name": "stdout",
          "text": [
            "vowels count in string is: 6\n"
          ]
        }
      ]
    },
    {
      "cell_type": "markdown",
      "source": [
        "Create a NumPy array of random integers and find\n",
        "its mean and standard deviation"
      ],
      "metadata": {
        "id": "v6tqm_6sapzZ"
      },
      "id": "v6tqm_6sapzZ"
    },
    {
      "cell_type": "code",
      "source": [
        "import numpy as np\n",
        "array = np.random.randint(1, 100, 10)\n",
        "print(array)\n",
        "mean = np.mean(array)\n",
        "sd = np.std(array)\n",
        "print(mean)\n",
        "print(sd)"
      ],
      "metadata": {
        "id": "Aqkby5mcasMO",
        "outputId": "6c88cd07-f060-46cc-98f6-165eafa9f2e1",
        "colab": {
          "base_uri": "https://localhost:8080/"
        }
      },
      "id": "Aqkby5mcasMO",
      "execution_count": 10,
      "outputs": [
        {
          "output_type": "stream",
          "name": "stdout",
          "text": [
            "[94 60 70 52 60  4 78 84 45 91]\n",
            "63.8\n",
            "25.293477420078087\n"
          ]
        }
      ]
    },
    {
      "cell_type": "markdown",
      "source": [
        "Load a CSV file using Pandas and display basic\n",
        "statistics of a numerical column"
      ],
      "metadata": {
        "id": "aTZqNtYLa78C"
      },
      "id": "aTZqNtYLa78C"
    },
    {
      "cell_type": "code",
      "source": [
        "import pandas as pd\n",
        "\n",
        "df = pd.read_csv('/content/sc.csv')\n",
        "\n",
        "numerical_column = df['Sales']\n",
        "print(numerical_column.describe())\n"
      ],
      "metadata": {
        "id": "Cd8dMhU0bDNc",
        "outputId": "c83b5868-328e-457c-ac64-eaa05dfb9875",
        "colab": {
          "base_uri": "https://localhost:8080/"
        }
      },
      "id": "Cd8dMhU0bDNc",
      "execution_count": 12,
      "outputs": [
        {
          "output_type": "stream",
          "name": "stdout",
          "text": [
            "count     9994.000000\n",
            "mean       229.858001\n",
            "std        623.245101\n",
            "min          0.444000\n",
            "25%         17.280000\n",
            "50%         54.490000\n",
            "75%        209.940000\n",
            "max      22638.480000\n",
            "Name: Sales, dtype: float64\n"
          ]
        }
      ]
    },
    {
      "cell_type": "markdown",
      "source": [
        "Implement a binary search algorithm in Python"
      ],
      "metadata": {
        "id": "HtH8jnA_csjD"
      },
      "id": "HtH8jnA_csjD"
    },
    {
      "cell_type": "code",
      "source": [
        "# Binary Search in python\n",
        "\n",
        "\n",
        "def binarySearch(array, x, low, high):\n",
        "\n",
        "    if high >= low:\n",
        "\n",
        "        mid = low + (high - low)//2\n",
        "\n",
        "        # If found at mid, then return it\n",
        "        if x == array[mid]:\n",
        "            return mid\n",
        "\n",
        "        # Search the right half\n",
        "        elif x > array[mid]:\n",
        "            return binarySearch(array, x, mid + 1, high)\n",
        "\n",
        "        # Search the left half\n",
        "        else:\n",
        "            return binarySearch(array, x, low, mid - 1)\n",
        "\n",
        "    else:\n",
        "        return -1\n",
        "\n",
        "\n",
        "array = [3, 4, 5, 6, 7, 8, 9]\n",
        "x = 8\n",
        "\n",
        "result = binarySearch(array, x, 0, len(array)-1)\n",
        "\n",
        "if result != -1:\n",
        "    print(\"Element is present at index \" + result)\n",
        "else:\n",
        "    print(\"Not found\")"
      ],
      "metadata": {
        "id": "_mZ168WBdaLm",
        "outputId": "6d1b129d-f2db-4f4a-9ce3-16ebb87fa90f",
        "colab": {
          "base_uri": "https://localhost:8080/",
          "height": 211
        }
      },
      "id": "_mZ168WBdaLm",
      "execution_count": 24,
      "outputs": [
        {
          "output_type": "error",
          "ename": "TypeError",
          "evalue": "can only concatenate str (not \"int\") to str",
          "traceback": [
            "\u001b[0;31m---------------------------------------------------------------------------\u001b[0m",
            "\u001b[0;31mTypeError\u001b[0m                                 Traceback (most recent call last)",
            "\u001b[0;32m<ipython-input-24-ee73d4d6ed5d>\u001b[0m in \u001b[0;36m<cell line: 0>\u001b[0;34m()\u001b[0m\n\u001b[1;32m     30\u001b[0m \u001b[0;34m\u001b[0m\u001b[0m\n\u001b[1;32m     31\u001b[0m \u001b[0;32mif\u001b[0m \u001b[0mresult\u001b[0m \u001b[0;34m!=\u001b[0m \u001b[0;34m-\u001b[0m\u001b[0;36m1\u001b[0m\u001b[0;34m:\u001b[0m\u001b[0;34m\u001b[0m\u001b[0;34m\u001b[0m\u001b[0m\n\u001b[0;32m---> 32\u001b[0;31m     \u001b[0mprint\u001b[0m\u001b[0;34m(\u001b[0m\u001b[0;34m\"Element is present at index \"\u001b[0m \u001b[0;34m+\u001b[0m \u001b[0mresult\u001b[0m\u001b[0;34m)\u001b[0m\u001b[0;34m\u001b[0m\u001b[0;34m\u001b[0m\u001b[0m\n\u001b[0m\u001b[1;32m     33\u001b[0m \u001b[0;32melse\u001b[0m\u001b[0;34m:\u001b[0m\u001b[0;34m\u001b[0m\u001b[0;34m\u001b[0m\u001b[0m\n\u001b[1;32m     34\u001b[0m     \u001b[0mprint\u001b[0m\u001b[0;34m(\u001b[0m\u001b[0;34m\"Not found\"\u001b[0m\u001b[0;34m)\u001b[0m\u001b[0;34m\u001b[0m\u001b[0;34m\u001b[0m\u001b[0m\n",
            "\u001b[0;31mTypeError\u001b[0m: can only concatenate str (not \"int\") to str"
          ]
        }
      ]
    }
  ],
  "metadata": {
    "kernelspec": {
      "display_name": "Python 3",
      "name": "python3"
    },
    "language_info": {
      "name": "python"
    },
    "required_libs": [],
    "colab": {
      "provenance": []
    }
  },
  "nbformat": 4,
  "nbformat_minor": 5
}